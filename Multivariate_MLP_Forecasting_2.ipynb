{
  "nbformat": 4,
  "nbformat_minor": 0,
  "metadata": {
    "colab": {
      "name": "Multivariate MLP Forecasting 2.ipynb",
      "version": "0.3.2",
      "provenance": [],
      "collapsed_sections": []
    },
    "kernelspec": {
      "name": "python3",
      "display_name": "Python 3"
    }
  },
  "cells": [
    {
      "metadata": {
        "id": "-crBQ9l8NUsp",
        "colab_type": "text"
      },
      "cell_type": "markdown",
      "source": [
        "# How to use Deep Learning to predict Tomorrow's Temperature with Feedforward Network\n",
        "## Multivariate Multiple Linear Perceptron\n",
        "### Author : Mohamed JELIDI, Email : jelidi.mohamad@gmail.com"
      ]
    },
    {
      "metadata": {
        "id": "sVlB2LzHc_Iq",
        "colab_type": "text"
      },
      "cell_type": "markdown",
      "source": [
        "When we say **Multivariate** time series data means data where there is **more than one observation** for each time step.\n",
        "\n",
        "A problem may have two or more parallel input time series and an output time series that is dependent on the input time series. The input time series are parallel because each series has an observation at the same time step. We can demonstrate this with a simple example of two parallel input time series where the output series is the simple addition of the input series."
      ]
    },
    {
      "metadata": {
        "id": "0EC0ZMdbJqHZ",
        "colab_type": "code",
        "colab": {
          "base_uri": "https://localhost:8080/",
          "height": 35
        },
        "outputId": "2dedd7a6-83ec-4020-b74d-fcede95dbf2a"
      },
      "cell_type": "code",
      "source": [
        "from numpy import array\n",
        "# define input sequence\n",
        "in_seq1 = array([100, 200, 300, 400, 500, 600, 700, 800, 900])\n",
        "in_seq2 = array([150, 250, 350, 450, 550, 650, 750, 850, 950])\n",
        "out_seq = array([in_seq1[i]+in_seq2[i] for i in range(len(in_seq1))])\n",
        "print(out_seq)"
      ],
      "execution_count": 5,
      "outputs": [
        {
          "output_type": "stream",
          "text": [
            "[ 250  450  650  850 1050 1250 1450 1650 1850]\n"
          ],
          "name": "stdout"
        }
      ]
    },
    {
      "metadata": {
        "id": "sggX2DQnhSsm",
        "colab_type": "text"
      },
      "cell_type": "markdown",
      "source": [
        "## Preprocessing data"
      ]
    },
    {
      "metadata": {
        "id": "oMhBMaOQK7aq",
        "colab_type": "text"
      },
      "cell_type": "markdown",
      "source": [
        "We can reshape these three arrays into onesingle dataset where each row represents one time step and each column is a separate time series. Infact, This is a standard way of storing parallel time series in a Comma Separated Value file."
      ]
    },
    {
      "metadata": {
        "id": "-eZdjTHVK4QL",
        "colab_type": "code",
        "colab": {
          "base_uri": "https://localhost:8080/",
          "height": 173
        },
        "outputId": "0e9f8bc1-ad45-4c9c-aa7b-d3610baf21af"
      },
      "cell_type": "code",
      "source": [
        "from numpy import hstack\n",
        "# convert to [rows, columns] structure\n",
        "in_seq1 = in_seq1.reshape((len(in_seq1), 1))\n",
        "in_seq2 = in_seq2.reshape((len(in_seq2), 1))\n",
        "out_seq = out_seq.reshape((len(out_seq), 1))\n",
        "# horizontally stack columns\n",
        "dataset = hstack((in_seq1, in_seq2, out_seq))\n",
        "print(dataset)"
      ],
      "execution_count": 8,
      "outputs": [
        {
          "output_type": "stream",
          "text": [
            "[[ 100  150  250]\n",
            " [ 200  250  450]\n",
            " [ 300  350  650]\n",
            " [ 400  450  850]\n",
            " [ 500  550 1050]\n",
            " [ 600  650 1250]\n",
            " [ 700  750 1450]\n",
            " [ 800  850 1650]\n",
            " [ 900  950 1850]]\n"
          ],
          "name": "stdout"
        }
      ]
    },
    {
      "metadata": {
        "id": "UzQT2r-bLnYU",
        "colab_type": "text"
      },
      "cell_type": "markdown",
      "source": [
        "Now, we can see our dataset with one row per time step and one column for each of the two input and one output parallel time series.\n",
        "\n",
        "Like the univariate time series, we must structure these data into samples in the form of inputs and outputs. We need to split the data into samples maintaining the order of observations across the two input sequences."
      ]
    },
    {
      "metadata": {
        "id": "G1n5zydnNspZ",
        "colab_type": "code",
        "colab": {
          "base_uri": "https://localhost:8080/",
          "height": 399
        },
        "outputId": "583876e3-ae59-46d8-bc7f-0f91c6d721c7"
      },
      "cell_type": "code",
      "source": [
        "# multivariate data preparation\n",
        "from numpy import array\n",
        "from numpy import hstack\n",
        "\n",
        "# split a multivariate sequence into samples\n",
        "def split_sequences(sequences, n_steps):\n",
        "\tX, y = list(), list()\n",
        "\tfor i in range(len(sequences)):\n",
        "\t\t# find the end of this pattern\n",
        "\t\tend_ix = i + n_steps\n",
        "\t\t# check if we are beyond the dataset\n",
        "\t\tif end_ix > len(sequences):\n",
        "\t\t\tbreak\n",
        "\t\t# gather input and output parts of the pattern\n",
        "\t\tseq_x, seq_y = sequences[i:end_ix, :-1], sequences[end_ix-1, -1]\n",
        "\t\tX.append(seq_x)\n",
        "\t\ty.append(seq_y)\n",
        "\treturn array(X), array(y)\n",
        "\n",
        "# define input sequence\n",
        "in_seq1 = array([100, 200, 300, 400, 500, 600, 700, 800, 900])\n",
        "in_seq2 = array([150, 250, 350, 450, 550, 650, 750, 850, 950])\n",
        "out_seq = array([in_seq1[i]+in_seq2[i] for i in range(len(in_seq1))])\n",
        "# convert to [rows, columns] structure\n",
        "in_seq1 = in_seq1.reshape((len(in_seq1), 1))\n",
        "in_seq2 = in_seq2.reshape((len(in_seq2), 1))\n",
        "out_seq = out_seq.reshape((len(out_seq), 1))\n",
        "# horizontally stack columns\n",
        "dataset = hstack((in_seq1, in_seq2, out_seq))\n",
        "# choose a number of time steps\n",
        "n_steps = 3\n",
        "# convert into input/output\n",
        "X, y = split_sequences(dataset, n_steps)\n",
        "print(X.shape, y.shape)\n",
        "# summarize the data\n",
        "for i in range(len(X)):\n",
        "\tprint(X[i], y[i])"
      ],
      "execution_count": 10,
      "outputs": [
        {
          "output_type": "stream",
          "text": [
            "(7, 3, 2) (7,)\n",
            "[[100 150]\n",
            " [200 250]\n",
            " [300 350]] 650\n",
            "[[200 250]\n",
            " [300 350]\n",
            " [400 450]] 850\n",
            "[[300 350]\n",
            " [400 450]\n",
            " [500 550]] 1050\n",
            "[[400 450]\n",
            " [500 550]\n",
            " [600 650]] 1250\n",
            "[[500 550]\n",
            " [600 650]\n",
            " [700 750]] 1450\n",
            "[[600 650]\n",
            " [700 750]\n",
            " [800 850]] 1650\n",
            "[[700 750]\n",
            " [800 850]\n",
            " [900 950]] 1850\n"
          ],
          "name": "stdout"
        }
      ]
    },
    {
      "metadata": {
        "id": "AaDut03VPFoD",
        "colab_type": "text"
      },
      "cell_type": "markdown",
      "source": [
        "Running the example first prints the shape of the X and y components. We can see that the X component has a three-dimensional structure. \n",
        "\n",
        "1.   The first dimension is the number of samples, in this case 7.\n",
        "2.   The second dimension is the number of time steps per sample, in this case 3 (the value specified to the function)\n",
        "3.   The last dimension specifies the number of parallel time series or the number of variables, in this case 2 for the two parallel series."
      ]
    },
    {
      "metadata": {
        "id": "d6vbScc8LsIU",
        "colab_type": "text"
      },
      "cell_type": "markdown",
      "source": [
        "# MLP Model"
      ]
    },
    {
      "metadata": {
        "id": "1ImZlOc5RD7g",
        "colab_type": "text"
      },
      "cell_type": "markdown",
      "source": [
        "Before we can fit an MLP on this data, we should flatten the shape of the input samples. **MLPs require that the shape of the input portion of each sample is a vector**. We can flatten the temporal structure of each input sample, so that:\n",
        "\n",
        "[[100 150]  [200 250]  [300 350]] becomes [100, 150, 200, 250, 300, 350]\n",
        "\n",
        "First, we calculate the length of each input vector as the number of time steps multiplied by the number of features or time series. We can then use this vector size to reshape the input."
      ]
    },
    {
      "metadata": {
        "id": "WGeWp9o4LJ_8",
        "colab_type": "code",
        "outputId": "cc0dfff7-2896-44c8-af19-f2c5e0f4d5e2",
        "colab": {
          "base_uri": "https://localhost:8080/",
          "height": 139
        }
      },
      "cell_type": "code",
      "source": [
        "# flatten input\n",
        "n_input = X.shape[1] * X.shape[2]\n",
        "X = X.reshape((X.shape[0], n_input))\n",
        "print(X)"
      ],
      "execution_count": 12,
      "outputs": [
        {
          "output_type": "stream",
          "text": [
            "[[100 150 200 250 300 350]\n",
            " [200 250 300 350 400 450]\n",
            " [300 350 400 450 500 550]\n",
            " [400 450 500 550 600 650]\n",
            " [500 550 600 650 700 750]\n",
            " [600 650 700 750 800 850]\n",
            " [700 750 800 850 900 950]]\n"
          ],
          "name": "stdout"
        }
      ]
    },
    {
      "metadata": {
        "id": "s89IE2naoBkk",
        "colab_type": "text"
      },
      "cell_type": "markdown",
      "source": [
        "Now, we are ready to Go!\n",
        "\n",
        "We can now define an MLP model for the multivariate input where the vector length is used for the input dimension argument."
      ]
    },
    {
      "metadata": {
        "id": "GytFLOBnLzPL",
        "colab_type": "code",
        "colab": {}
      },
      "cell_type": "code",
      "source": [
        "# define model\n",
        "model = Sequential()\n",
        "model.add(Dense(100, activation='relu', input_dim=n_input))\n",
        "model.add(Dense(1))\n",
        "model.compile(optimizer='adam', loss='mse')"
      ],
      "execution_count": 0,
      "outputs": []
    },
    {
      "metadata": {
        "id": "I0_LMMQvpa7f",
        "colab_type": "text"
      },
      "cell_type": "markdown",
      "source": [
        "When we ask the model to make a prediction, the model expects three time steps for two input time series. "
      ]
    },
    {
      "metadata": {
        "id": "uEzVEJj9Tzr9",
        "colab_type": "code",
        "colab": {
          "base_uri": "https://localhost:8080/",
          "height": 35
        },
        "outputId": "8230d813-7a9e-4faf-90b0-11c75965028a"
      },
      "cell_type": "code",
      "source": [
        "# fit model\n",
        "model.fit(X, y, epochs=2000, verbose=0)"
      ],
      "execution_count": 17,
      "outputs": [
        {
          "output_type": "execute_result",
          "data": {
            "text/plain": [
              "<keras.callbacks.History at 0x7fdf1f9aa668>"
            ]
          },
          "metadata": {
            "tags": []
          },
          "execution_count": 17
        }
      ]
    },
    {
      "metadata": {
        "id": "TGUM1ivrpRtO",
        "colab_type": "code",
        "colab": {
          "base_uri": "https://localhost:8080/",
          "height": 35
        },
        "outputId": "1b88b469-e2de-4686-8872-05a1bd77f306"
      },
      "cell_type": "code",
      "source": [
        "# demonstrate prediction\n",
        "x_input = array([[700, 750], [800, 850], [900, 950]])\n",
        "x_input = x_input.reshape((1, n_input))\n",
        "yhat = model.predict(x_input, verbose=0)\n",
        "print(yhat)"
      ],
      "execution_count": 18,
      "outputs": [
        {
          "output_type": "stream",
          "text": [
            "[[1855.244]]\n"
          ],
          "name": "stdout"
        }
      ]
    },
    {
      "metadata": {
        "id": "FZsN8Yijp4o3",
        "colab_type": "text"
      },
      "cell_type": "markdown",
      "source": [
        "**Note:** Given the stochastic nature of this algorithm, your  results may vary."
      ]
    },
    {
      "metadata": {
        "id": "xlyl8d2_p-RK",
        "colab_type": "code",
        "colab": {}
      },
      "cell_type": "code",
      "source": [
        ""
      ],
      "execution_count": 0,
      "outputs": []
    }
  ]
}