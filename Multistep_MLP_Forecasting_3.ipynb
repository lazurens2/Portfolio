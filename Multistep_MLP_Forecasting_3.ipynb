{
  "nbformat": 4,
  "nbformat_minor": 0,
  "metadata": {
    "colab": {
      "name": "Multistep MLP Forecasting 3.ipynb",
      "version": "0.3.2",
      "provenance": [],
      "collapsed_sections": []
    },
    "kernelspec": {
      "name": "python3",
      "display_name": "Python 3"
    },
    "accelerator": "GPU"
  },
  "cells": [
    {
      "metadata": {
        "id": "-crBQ9l8NUsp",
        "colab_type": "text"
      },
      "cell_type": "markdown",
      "source": [
        "# How to use Deep Learning to predict The Definite Future with Feedforward Network\n",
        "## Multistep Univariate Linear Perceptron\n",
        "### Author : Mohamed JELIDI, Email : jelidi.mohamad@gmail.com"
      ]
    },
    {
      "metadata": {
        "id": "sVlB2LzHc_Iq",
        "colab_type": "text"
      },
      "cell_type": "markdown",
      "source": [
        "In practice, there is little difference to the MLP model in predicting a vector output that represents different output variables (as in the previous example) or a vector output that represents multiple time steps of one variable. Nevertheless, there are subtle and important differences in the way the training data is prepared. In this section, we will demonstrate the case of developing a multi-step forecast model using a vector model. Before we look at the specifics of the model, let’s first look at the preparation of data for multi-step forecasting."
      ]
    },
    {
      "metadata": {
        "id": "sggX2DQnhSsm",
        "colab_type": "text"
      },
      "cell_type": "markdown",
      "source": [
        "## Preprocessing data"
      ]
    },
    {
      "metadata": {
        "id": "QFNJxlMjmIzs",
        "colab_type": "code",
        "outputId": "51832e85-e2e5-47e6-a021-5497112eece4",
        "colab": {
          "base_uri": "https://localhost:8080/",
          "height": 101
        }
      },
      "cell_type": "code",
      "source": [
        "# multi-step data preparation\n",
        "from numpy import array\n",
        "# split a univariate sequence into samples\n",
        "def split_sequence(sequence, n_steps_in, n_steps_out):\n",
        "  X, y = list(), list()\n",
        "  for i in range(len(sequence)):\n",
        "    # find the end of this pattern\n",
        "    end_ix = i + n_steps_in\n",
        "    out_end_ix = end_ix + n_steps_out\n",
        "    # check if we are beyond the sequence\n",
        "    if out_end_ix > len(sequence):\n",
        "      break\n",
        "    # gather input and output parts of the pattern\n",
        "    seq_x, seq_y = sequence[i:end_ix], sequence[end_ix:out_end_ix]\n",
        "    X.append(seq_x)\n",
        "    y.append(seq_y)\n",
        "  return array(X), array(y)\n",
        "# define input sequence\n",
        "raw_seq = [100, 200, 300, 400, 500, 600, 700, 800, 900]\n",
        "# choose a number of time steps\n",
        "n_steps_in, n_steps_out = 3, 2\n",
        "# split into samples\n",
        "X, y = split_sequence(raw_seq, n_steps_in, n_steps_out)\n",
        "# summarize the data\n",
        "for i in range(len(X)):\n",
        "  print(X[i], y[i])"
      ],
      "execution_count": 0,
      "outputs": [
        {
          "output_type": "stream",
          "text": [
            "[100 200 300] [400 500]\n",
            "[200 300 400] [500 600]\n",
            "[300 400 500] [600 700]\n",
            "[400 500 600] [700 800]\n",
            "[500 600 700] [800 900]\n"
          ],
          "name": "stdout"
        }
      ]
    },
    {
      "metadata": {
        "id": "Q9VoXCBhowsb",
        "colab_type": "code",
        "outputId": "884ec317-f867-4ff3-b657-fda3d7b00c8b",
        "colab": {
          "base_uri": "https://localhost:8080/",
          "height": 403
        }
      },
      "cell_type": "code",
      "source": [
        "# define input sequence\n",
        "raw_seq = [1, 1, 1, 2, 2, 2, 1, 2, 1, 1, 1, 1, 2, 2, 2, 1, 2, 1, 1, 1, 1, 2, 2, 2, 1, 2, 1]\n",
        "# choose a number of time steps\n",
        "n_steps_in, n_steps_out = 3, 2\n",
        "# split into samples\n",
        "X, y = split_sequence(raw_seq, n_steps_in, n_steps_out)\n",
        "# summarize the data\n",
        "for i in range(len(X)):\n",
        "  print(X[i], y[i])"
      ],
      "execution_count": 0,
      "outputs": [
        {
          "output_type": "stream",
          "text": [
            "[1 1 1] [2 2]\n",
            "[1 1 2] [2 2]\n",
            "[1 2 2] [2 1]\n",
            "[2 2 2] [1 2]\n",
            "[2 2 1] [2 1]\n",
            "[2 1 2] [1 1]\n",
            "[1 2 1] [1 1]\n",
            "[2 1 1] [1 1]\n",
            "[1 1 1] [1 2]\n",
            "[1 1 1] [2 2]\n",
            "[1 1 2] [2 2]\n",
            "[1 2 2] [2 1]\n",
            "[2 2 2] [1 2]\n",
            "[2 2 1] [2 1]\n",
            "[2 1 2] [1 1]\n",
            "[1 2 1] [1 1]\n",
            "[2 1 1] [1 1]\n",
            "[1 1 1] [1 2]\n",
            "[1 1 1] [2 2]\n",
            "[1 1 2] [2 2]\n",
            "[1 2 2] [2 1]\n",
            "[2 2 2] [1 2]\n",
            "[2 2 1] [2 1]\n"
          ],
          "name": "stdout"
        }
      ]
    },
    {
      "metadata": {
        "id": "d6vbScc8LsIU",
        "colab_type": "text"
      },
      "cell_type": "markdown",
      "source": [
        "# MLP Model"
      ]
    },
    {
      "metadata": {
        "id": "MNWc7w3EngFA",
        "colab_type": "code",
        "colab": {}
      },
      "cell_type": "code",
      "source": [
        "# define model\n",
        "model = Sequential()\n",
        "model.add(Dense(100, activation='relu', input_dim=n_steps_in))\n",
        "model.add(Dense(n_steps_out))\n",
        "model.compile(optimizer='adam', loss='mse')"
      ],
      "execution_count": 0,
      "outputs": []
    },
    {
      "metadata": {
        "id": "vx3JMAV9nwhI",
        "colab_type": "code",
        "outputId": "911b330f-3856-4a14-84f0-50b0f83f31cc",
        "colab": {
          "base_uri": "https://localhost:8080/",
          "height": 34
        }
      },
      "cell_type": "code",
      "source": [
        "# fitting the model\n",
        "model.fit(X, y, epochs=2000, verbose=0)"
      ],
      "execution_count": 0,
      "outputs": [
        {
          "output_type": "execute_result",
          "data": {
            "text/plain": [
              "<keras.callbacks.History at 0x7fc23a4135f8>"
            ]
          },
          "metadata": {
            "tags": []
          },
          "execution_count": 41
        }
      ]
    },
    {
      "metadata": {
        "id": "x3tTTEmWnp9A",
        "colab_type": "code",
        "outputId": "d56dc7e0-b9ed-476b-e048-76764106552e",
        "colab": {
          "base_uri": "https://localhost:8080/",
          "height": 34
        }
      },
      "cell_type": "code",
      "source": [
        "# demonstrate prediction\n",
        "x_input = array([0, 2, 2])\n",
        "x_input = x_input.reshape((1, n_steps_in))\n",
        "yhat = model.predict(x_input, verbose=0)\n",
        "print(yhat)"
      ],
      "execution_count": 0,
      "outputs": [
        {
          "output_type": "stream",
          "text": [
            "[[2.947235   0.14778869]]\n"
          ],
          "name": "stdout"
        }
      ]
    },
    {
      "metadata": {
        "id": "WGeWp9o4LJ_8",
        "colab_type": "code",
        "outputId": "09d9ed0b-76f5-4f4b-8602-18f248c15941",
        "colab": {
          "base_uri": "https://localhost:8080/",
          "height": 420
        }
      },
      "cell_type": "code",
      "source": [
        "# Automate prediction to observe results\n",
        "print('Predicted\\t\\t','Actuals')\n",
        "for i in range(len(X)):\n",
        "  x_input = array(X[i]).reshape((1, n_steps_in))\n",
        "  yhat = model.predict(x_input, verbose=0)\n",
        "  print(yhat,'\\t\\t', y[i])"
      ],
      "execution_count": 0,
      "outputs": [
        {
          "output_type": "stream",
          "text": [
            "Predicted\t\t Actuals\n",
            "[[1.5994239 1.999349 ]] \t\t [2 2]\n",
            "[[2.0038064 1.9980189]] \t\t [2 2]\n",
            "[[1.9948318 1.003254 ]] \t\t [2 1]\n",
            "[[1.0070384 1.9956039]] \t\t [1 2]\n",
            "[[1.9931372 1.0028354]] \t\t [2 1]\n",
            "[[0.98906237 1.0053579 ]] \t\t [1 1]\n",
            "[[1.0068331 0.9982864]] \t\t [1 1]\n",
            "[[1.0093566 0.9969254]] \t\t [1 1]\n",
            "[[1.5994239 1.999349 ]] \t\t [1 2]\n",
            "[[1.5994239 1.999349 ]] \t\t [2 2]\n",
            "[[2.0038064 1.9980189]] \t\t [2 2]\n",
            "[[1.9948318 1.003254 ]] \t\t [2 1]\n",
            "[[1.0070384 1.9956039]] \t\t [1 2]\n",
            "[[1.9931372 1.0028354]] \t\t [2 1]\n",
            "[[0.98906237 1.0053579 ]] \t\t [1 1]\n",
            "[[1.0068331 0.9982864]] \t\t [1 1]\n",
            "[[1.0093566 0.9969254]] \t\t [1 1]\n",
            "[[1.5994239 1.999349 ]] \t\t [1 2]\n",
            "[[1.5994239 1.999349 ]] \t\t [2 2]\n",
            "[[2.0038064 1.9980189]] \t\t [2 2]\n",
            "[[1.9948318 1.003254 ]] \t\t [2 1]\n",
            "[[1.0070384 1.9956039]] \t\t [1 2]\n",
            "[[1.9931372 1.0028354]] \t\t [2 1]\n"
          ],
          "name": "stdout"
        }
      ]
    },
    {
      "metadata": {
        "id": "FZsN8Yijp4o3",
        "colab_type": "text"
      },
      "cell_type": "markdown",
      "source": [
        "**Note:** Given the stochastic nature of this algorithm, your  results may vary."
      ]
    },
    {
      "metadata": {
        "id": "xlyl8d2_p-RK",
        "colab_type": "code",
        "colab": {}
      },
      "cell_type": "code",
      "source": [
        ""
      ],
      "execution_count": 0,
      "outputs": []
    }
  ]
}